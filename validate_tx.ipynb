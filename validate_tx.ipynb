{
 "cells": [
  {
   "cell_type": "markdown",
   "id": "eaa1ae44-46d6-4b9d-8f95-f85a2fe3b4d5",
   "metadata": {},
   "source": [
    "# How Do Miners Validate Transactions?"
   ]
  },
  {
   "cell_type": "markdown",
   "id": "f65e43a6-22fa-4bdb-b8a7-2c777a6f9520",
   "metadata": {},
   "source": [
    "## Coinbase Transactions"
   ]
  },
  {
   "cell_type": "code",
   "execution_count": null,
   "id": "62bc1a2d-d123-4dd4-a996-d1ada339a13c",
   "metadata": {},
   "outputs": [],
   "source": [
    "from tx_engine import WoCInterface, Tx\n",
    "\n",
    "woc_interface = WoCInterface()\n",
    "config = {\"network_type\": \"testnet\"}\n",
    "woc_interface.set_config(config)\n",
    "\n",
    "coinbase_txid = \"7194136be4ba841120697fc8ce18380dcc5a5bde16bd815128d650b705ab272a\"\n",
    "coinbase_tx_as_hex_str = woc_interface.get_raw_transaction(coinbase_txid)\n",
    "coinbase_tx = Tx.parse_hexstr(coinbase_tx_as_hex_str)\n",
    "coinbase_tx"
   ]
  },
  {
   "cell_type": "markdown",
   "id": "e7a96adf-1f83-4cc3-a6aa-f2e20fa8ecbd",
   "metadata": {},
   "source": [
    "## Transaction Signing"
   ]
  },
  {
   "cell_type": "markdown",
   "id": "abd6bc00-8bc2-4fbb-965a-8fab7ce912a0",
   "metadata": {},
   "source": [
    "### Bitcoin Script"
   ]
  },
  {
   "cell_type": "code",
   "execution_count": null,
   "id": "fe1e38a1-f813-440d-90a0-68dfb1b2d96a",
   "metadata": {},
   "outputs": [],
   "source": [
    "from tx_engine import Script, Context\n",
    "s = Script.parse_string(\"1 2 OP_ADD\")\n",
    "c = Context(script=s)\n",
    "c.evaluate()"
   ]
  },
  {
   "cell_type": "code",
   "execution_count": null,
   "id": "5b94a8f9-e071-4811-9801-80f10940c86c",
   "metadata": {},
   "outputs": [],
   "source": [
    "c.get_stack()"
   ]
  },
  {
   "cell_type": "markdown",
   "id": "9bbdead8-c357-4219-86f8-481e1d30c0ab",
   "metadata": {},
   "source": [
    "## Transaction Validation"
   ]
  },
  {
   "cell_type": "code",
   "execution_count": null,
   "id": "8f6426db-6e81-4309-8e78-65ae74047932",
   "metadata": {},
   "outputs": [],
   "source": [
    "fund_txid = \"86dc8d65e46bcab2ce44f9820b552b62707e9495e8caad6e3277689168526d2f\"\n",
    "fund_tx_as_hex_str = woc_interface.get_raw_transaction(fund_txid)\n",
    "fund_tx = Tx.parse_hexstr(fund_tx_as_hex_str)\n",
    "fund_tx"
   ]
  },
  {
   "cell_type": "markdown",
   "id": "4fa4ebc1-327b-407a-84f3-2645cd41744d",
   "metadata": {},
   "source": [
    "### Transaction Validation in Python"
   ]
  },
  {
   "cell_type": "code",
   "execution_count": null,
   "id": "f93c1747-abff-493f-a462-e28dff8e94e1",
   "metadata": {},
   "outputs": [],
   "source": [
    "own_txid = '72f201f87e3bb42bbd7f8eaed0f555a268a0eba5d0fb101160167c758ed863bb'\n",
    "own_tx_as_hex_str = woc_interface.get_raw_transaction(own_txid)\n",
    "own_tx = Tx.parse_hexstr(own_tx_as_hex_str)\n",
    "own_tx"
   ]
  },
  {
   "cell_type": "code",
   "execution_count": null,
   "id": "ee7ebcfd-f400-4a04-8ebd-3a9930e3e227",
   "metadata": {},
   "outputs": [],
   "source": [
    "script_sig = Script.parse_string(\"0x3045022100b09f980d91842499a82b696279d9f1590b7e31cef600ea0b60c41bd10e5b2f87022079a7a65e3090779a789de8892eac36aff5220e8c81d948c86dc61ebb7c08eb9441 0x03dcf21dbdbaa744333af236c3382c85d6308e6d05599df5d3cb19e0f19a205d43\")"
   ]
  },
  {
   "cell_type": "code",
   "execution_count": null,
   "id": "5a11138a-41ac-4a38-a974-d7a59629f62c",
   "metadata": {},
   "outputs": [],
   "source": [
    "script_pubkey = Script.parse_string(\"OP_DUP OP_HASH160 0xd86625de492d8bd8bbc4930f2bef4328e37f1f53 OP_EQUALVERIFY OP_CHECKSIG\")"
   ]
  },
  {
   "cell_type": "code",
   "execution_count": null,
   "id": "96790ea1-9f60-4ec3-ba23-d6e7d05a0adf",
   "metadata": {},
   "outputs": [],
   "source": [
    "combined_script = script_sig + script_pubkey"
   ]
  },
  {
   "cell_type": "code",
   "execution_count": null,
   "id": "f3ab966a-e5d0-4bd2-9765-ffb78bf55385",
   "metadata": {},
   "outputs": [],
   "source": [
    "from tx_engine import sig_hash, SIGHASH\n",
    "z = sig_hash(own_tx, 0, script_pubkey, 98800, SIGHASH.ALL_FORKID)"
   ]
  },
  {
   "cell_type": "code",
   "execution_count": null,
   "id": "ab495672-a214-4a3f-aef4-0acfb1ee86be",
   "metadata": {},
   "outputs": [],
   "source": [
    "x = Context(script=combined_script, z=z)\n",
    "x.evaluate()"
   ]
  }
 ],
 "metadata": {
  "kernelspec": {
   "display_name": "Python 3 (ipykernel)",
   "language": "python",
   "name": "python3"
  },
  "language_info": {
   "codemirror_mode": {
    "name": "ipython",
    "version": 3
   },
   "file_extension": ".py",
   "mimetype": "text/x-python",
   "name": "python",
   "nbconvert_exporter": "python",
   "pygments_lexer": "ipython3",
   "version": "3.11.2"
  }
 },
 "nbformat": 4,
 "nbformat_minor": 5
}
