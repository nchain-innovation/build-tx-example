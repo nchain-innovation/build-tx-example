{
 "cells": [
  {
   "cell_type": "markdown",
   "id": "31ba536e-e7f3-4a05-9a47-aa5c17327b47",
   "metadata": {},
   "source": [
    "# Building Blockchain Transactions with Python"
   ]
  },
  {
   "cell_type": "markdown",
   "id": "b9c7064e-49d4-4db7-b47b-282e779a8f07",
   "metadata": {},
   "source": [
    "## Generate a Keypair"
   ]
  },
  {
   "cell_type": "code",
   "execution_count": null,
   "id": "4c3f9b6c-22b7-4beb-88c3-16b05f734f05",
   "metadata": {},
   "outputs": [],
   "source": [
    "from tx_engine import Wallet"
   ]
  },
  {
   "cell_type": "code",
   "execution_count": null,
   "id": "2dd7b7e7-80fa-471c-9c8a-d6b5c9c460c0",
   "metadata": {},
   "outputs": [],
   "source": [
    "my_wallet = Wallet.generate_keypair(\"BSV_Testnet\")"
   ]
  },
  {
   "cell_type": "code",
   "execution_count": null,
   "id": "f6436631-15b4-4927-90d9-9bcdd5630ae9",
   "metadata": {},
   "outputs": [],
   "source": [
    "my_wallet.to_wif()"
   ]
  },
  {
   "cell_type": "code",
   "execution_count": null,
   "id": "fdce7fca-2d12-44ca-9946-c6ceda5f0e97",
   "metadata": {},
   "outputs": [],
   "source": [
    "my_wallet.get_address()"
   ]
  },
  {
   "cell_type": "markdown",
   "id": "f9148d9d-b9d7-4e70-8716-a11e505baf9b",
   "metadata": {},
   "source": [
    "# Fund the Keypair"
   ]
  },
  {
   "cell_type": "code",
   "execution_count": null,
   "id": "75a7ec72-777c-4c08-8829-2c976d19452b",
   "metadata": {},
   "outputs": [],
   "source": [
    "# Insert details of the funding transaction here\n",
    "funding_txid = \"86dc8d65e46bcab2ce44f9820b....707e9495e8caad6e3277689168526d2f\"\n",
    "prev_index = 0"
   ]
  },
  {
   "cell_type": "markdown",
   "id": "affb81ea-a36e-43a5-b338-ddd5fc5bd5b7",
   "metadata": {},
   "source": [
    "# Create Tx"
   ]
  },
  {
   "cell_type": "markdown",
   "id": "9e02e467-4167-4d8a-999c-88d59868fbf5",
   "metadata": {},
   "source": [
    "## TxIn"
   ]
  },
  {
   "cell_type": "code",
   "execution_count": null,
   "id": "1b291583-7b76-4296-882c-1273f4735bf6",
   "metadata": {},
   "outputs": [],
   "source": [
    "from tx_engine import Tx, TxIn, TxOut\n",
    "vins = [TxIn(prev_tx=funding_txid, prev_index=prev_index)]"
   ]
  },
  {
   "cell_type": "markdown",
   "id": "125c7b63-21f2-44d9-a2e1-46cf674b49e9",
   "metadata": {},
   "source": [
    "## TxOut"
   ]
  },
  {
   "cell_type": "code",
   "execution_count": null,
   "id": "ce2bd13b-91fa-40b8-b59a-66effeb33c36",
   "metadata": {},
   "outputs": [],
   "source": [
    "from tx_engine import p2pkh_script, address_to_public_key_hash"
   ]
  },
  {
   "cell_type": "code",
   "execution_count": null,
   "id": "d54456fc-2f6a-4c61-8a95-6721fe827a9f",
   "metadata": {},
   "outputs": [],
   "source": [
    "vouts = []\n",
    "faucet_addr = \"mnai8LzKea5e3C9qgrBo7JHgpiEnHKMhwR\""
   ]
  },
  {
   "cell_type": "code",
   "execution_count": null,
   "id": "cd526356-dc9c-43f4-bfd3-2f21de2a5752",
   "metadata": {},
   "outputs": [],
   "source": [
    "locking_script = p2pkh_script(address_to_public_key_hash(faucet_addr))\n",
    "vouts.append(TxOut(amount=1000, script_pubkey=locking_script))"
   ]
  },
  {
   "cell_type": "code",
   "execution_count": null,
   "id": "9beefedc-cba3-4d74-a0c9-1d8c3dc4fd05",
   "metadata": {},
   "outputs": [],
   "source": [
    "locking_script"
   ]
  },
  {
   "cell_type": "code",
   "execution_count": null,
   "id": "f41dacef-a81a-4a23-ae1a-0785a2bfa839",
   "metadata": {},
   "outputs": [],
   "source": [
    "remainder = 98,800"
   ]
  },
  {
   "cell_type": "code",
   "execution_count": null,
   "id": "4ff0cd1a-13bd-48fd-9523-5d7a748c14c0",
   "metadata": {},
   "outputs": [],
   "source": [
    "vouts.append(TxOut(amount=remainder, script_pubkey=my_wallet.get_locking_script()))"
   ]
  },
  {
   "cell_type": "markdown",
   "id": "cc173aa3-5c62-4b4e-acce-474a3d4d04e5",
   "metadata": {},
   "source": [
    "## Tx"
   ]
  },
  {
   "cell_type": "code",
   "execution_count": null,
   "id": "4f490a56-f891-49da-8975-be49f2237d84",
   "metadata": {},
   "outputs": [],
   "source": [
    " tx = Tx(version=1, tx_ins=vins, tx_outs=vouts, locktime=0)"
   ]
  },
  {
   "cell_type": "markdown",
   "id": "b366c7a1-db9c-4447-a7da-bd9b7e62151a",
   "metadata": {},
   "source": [
    "# Signing the Transaction"
   ]
  },
  {
   "cell_type": "code",
   "execution_count": null,
   "id": "97464df4-fab4-4fe0-b23b-823cb580988d",
   "metadata": {},
   "outputs": [],
   "source": [
    "from tx_engine import WoCInterface"
   ]
  },
  {
   "cell_type": "code",
   "execution_count": null,
   "id": "6ab142e7-57a5-4fbb-a897-09399d55ca84",
   "metadata": {},
   "outputs": [],
   "source": [
    "woc_interface = WoCInterface()\n",
    "config = {\"network_type\": \"testnet\"}\n",
    "woc_interface.set_config(config)"
   ]
  },
  {
   "cell_type": "code",
   "execution_count": null,
   "id": "f4f21e3f-ce53-432f-a613-5165c2ba5092",
   "metadata": {},
   "outputs": [],
   "source": [
    "funding_tx = woc_interface.get_raw_transaction(funding_txid)"
   ]
  },
  {
   "cell_type": "code",
   "execution_count": null,
   "id": "dabf0fa0-925a-4084-9b5e-a9669d2e0208",
   "metadata": {},
   "outputs": [],
   "source": [
    "funding_tx"
   ]
  },
  {
   "cell_type": "code",
   "execution_count": null,
   "id": "23d145c3-17cf-4636-8a3b-34a5f1c437f5",
   "metadata": {},
   "outputs": [],
   "source": [
    "fund_tx = Tx.parse_hexstr(funding_tx)"
   ]
  },
  {
   "cell_type": "code",
   "execution_count": null,
   "id": "7929c19f-9f73-4b48-834e-821dd2839f75",
   "metadata": {},
   "outputs": [],
   "source": [
    "fund_tx"
   ]
  },
  {
   "cell_type": "code",
   "execution_count": null,
   "id": "b9ae7f09-b1ab-43f5-8a81-73d12318fef8",
   "metadata": {},
   "outputs": [],
   "source": [
    "signed_tx = my_wallet.sign_tx(0, fund_tx, tx)"
   ]
  },
  {
   "cell_type": "code",
   "execution_count": null,
   "id": "03b45238-25fc-49fc-87f2-c95fd37f88b4",
   "metadata": {},
   "outputs": [],
   "source": [
    "signed_tx"
   ]
  },
  {
   "cell_type": "markdown",
   "id": "76f6c5d1-a52a-4fe2-8fd5-bdb5f3aea1dd",
   "metadata": {},
   "source": [
    "# Broadcast Tx"
   ]
  },
  {
   "cell_type": "code",
   "execution_count": null,
   "id": "e2c67cb7-cd95-4acc-b12a-59db190c7946",
   "metadata": {},
   "outputs": [],
   "source": [
    "result = woc_interface.broadcast_tx(signed_tx.serialize().hex())"
   ]
  },
  {
   "cell_type": "code",
   "execution_count": null,
   "id": "90b16e3c-d463-462b-b1fa-5a04a4b133d7",
   "metadata": {},
   "outputs": [],
   "source": [
    "result.status_code"
   ]
  },
  {
   "cell_type": "code",
   "execution_count": null,
   "id": "766d6a39-cc09-495e-b7fd-b27eb59ba7ec",
   "metadata": {},
   "outputs": [],
   "source": [
    "result.json()"
   ]
  },
  {
   "cell_type": "code",
   "execution_count": null,
   "id": "4adff245-8750-4700-bf3b-816b73ec0a47",
   "metadata": {},
   "outputs": [],
   "source": [
    "signed_tx.id()\n"
   ]
  }
 ],
 "metadata": {
  "kernelspec": {
   "display_name": "Python 3 (ipykernel)",
   "language": "python",
   "name": "python3"
  },
  "language_info": {
   "codemirror_mode": {
    "name": "ipython",
    "version": 3
   },
   "file_extension": ".py",
   "mimetype": "text/x-python",
   "name": "python",
   "nbconvert_exporter": "python",
   "pygments_lexer": "ipython3",
   "version": "3.11.2"
  }
 },
 "nbformat": 4,
 "nbformat_minor": 5
}
